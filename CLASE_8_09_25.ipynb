{
  "nbformat": 4,
  "nbformat_minor": 0,
  "metadata": {
    "colab": {
      "provenance": []
    },
    "kernelspec": {
      "name": "python3",
      "display_name": "Python 3"
    },
    "language_info": {
      "name": "python"
    }
  },
  "cells": [
    {
      "cell_type": "markdown",
      "source": [
        "#Tipos de Datos\n",
        "\n",
        "1. Tipo numerico (pueden ser enteros o decimales).\n",
        "\n",
        "datos continuos: adoptan en cualquier momento un valor.\n",
        "\n",
        "datos discretos: solo adopatn unos valores en ciertos intervalos.\n",
        "\n",
        "2. tipo categoria\n",
        "\n",
        "Binarios: paso o no paso (1 o 0)\n",
        "\n",
        "Ordinales: representan categorias posibles\n",
        "\n",
        "Para que sirven\n",
        "\n",
        "para encontrar patrones, para la indexacion, etc\n",
        "\n",
        "tablas=datos rectangulares o data frame\n",
        "\n",
        "features= las variables de la aparte de arriba en una tabla\n",
        "registros= las variables de la parte izquierda en una tabla\n",
        "\n",
        "\n",
        "#Metricas y Estimaciones\n",
        "\n",
        "**medidas de tendencia central - MEDIA**\n",
        "\n",
        "* Media(mean) = suma de todos los valores divida ente el total de sus valores\n",
        "\n",
        "* media truncada(trimmed mean) = es la mean pero ignora un numero fijo de valores ordenados\n",
        "\n",
        "Media Ponderada(weigthed mean) = mean pero multiplica cada valor por su peso (**el peso se da por la frecuencia de aparicion**)  dividido por la suma de las ponderaciones --->la mejor de todos\n",
        "\n",
        "**medidas de tendencia central - MEDIANA**\n",
        "\n",
        "* Mediana (median)- calcula la mitad de los datos\n",
        "\n",
        "* Mediana ponderada (weigthed median)-representa el valor central en un conjunto de datos al que se le asigna un \"peso\"\n",
        "\n",
        "**Asimetrias**\n",
        "\n",
        "negativa (izquierda) = media<mediana<moda\n",
        "\n",
        "simetrica = media=mediana=moda\n",
        "\n",
        "positiva (derecha) = media>mediana>moda\n",
        "\n",
        "\n"
      ],
      "metadata": {
        "id": "__GcMQEVzLyJ"
      }
    }
  ]
}