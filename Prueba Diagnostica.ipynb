{
  "nbformat": 4,
  "nbformat_minor": 0,
  "metadata": {
    "colab": {
      "provenance": []
    },
    "kernelspec": {
      "name": "python3",
      "display_name": "Python 3"
    },
    "language_info": {
      "name": "python"
    }
  },
  "cells": [
    {
      "cell_type": "markdown",
      "source": [
        "# Estructuras de Decision"
      ],
      "metadata": {
        "id": "u4Mt_kgOoxkJ"
      }
    },
    {
      "cell_type": "markdown",
      "source": [
        "Todos los ejercicios efueron hechos con asistencia de IA (me daba pena entregar nada) en mi caso soy estudiante de economia y el pensum nos incita fuertemente a aprender analisis de datos pero no nos formo para la programacion"
      ],
      "metadata": {
        "id": "MWm9A_NnyBoR"
      }
    },
    {
      "cell_type": "markdown",
      "source": [
        "1\tEscribe un programa que reciba un número e indique si es positivo."
      ],
      "metadata": {
        "id": "_KsFVTqRqYUQ"
      }
    },
    {
      "cell_type": "code",
      "source": [
        "# número que seleccione el usuario\n",
        "numero = float(input(\"Ingrese un número: \"))\n",
        "\n",
        "# Verificar si es positivo\n",
        "if numero > 0:\n",
        "    print(\"El número es positivo\")\n",
        "else:\n",
        "    print(\"El número no es positivo\")\n"
      ],
      "metadata": {
        "colab": {
          "base_uri": "https://localhost:8080/"
        },
        "collapsed": true,
        "id": "QAg2WCCJpmhP",
        "outputId": "479ea067-3d4a-43af-ca1b-48183c2ad9df"
      },
      "execution_count": 2,
      "outputs": [
        {
          "output_type": "stream",
          "name": "stdout",
          "text": [
            "Ingrese un número: 4\n",
            "El número es positivo\n"
          ]
        }
      ]
    },
    {
      "cell_type": "markdown",
      "source": [
        "2\tEscribe un programa que reciba una edad y determine si la persona es mayor de edad."
      ],
      "metadata": {
        "id": "RIKTDIe4ql0H"
      }
    },
    {
      "cell_type": "code",
      "source": [
        "# edad del usuario\n",
        "edad = int(input(\"Ingrese su edad: \"))\n",
        "\n",
        "# Verificar si es mayor de edad\n",
        "if edad >= 18:\n",
        "    print(\"El usuario es mayor de edad\")\n",
        "else:\n",
        "    print(\"El usuario es menor de edad\")\n"
      ],
      "metadata": {
        "colab": {
          "base_uri": "https://localhost:8080/"
        },
        "collapsed": true,
        "id": "eFEPPK6aqlm-",
        "outputId": "e3883f0c-e95c-4ae9-a561-27866622d74d"
      },
      "execution_count": 4,
      "outputs": [
        {
          "output_type": "stream",
          "name": "stdout",
          "text": [
            "Ingrese su edad: 57\n",
            "El usuario es mayor de edad\n"
          ]
        }
      ]
    },
    {
      "cell_type": "markdown",
      "source": [
        "3\tEscribe un programa que reciba dos números e imprima el mayor."
      ],
      "metadata": {
        "id": "EvZtZm_MrOf2"
      }
    },
    {
      "cell_type": "code",
      "source": [
        "# Pedir dos números al usuario\n",
        "num1 = float(input(\"Ingrese el primer número: \"))\n",
        "num2 = float(input(\"Ingrese el segundo número: \"))\n",
        "\n",
        "# Comparar e imprimir el mayor\n",
        "if num1 > num2:\n",
        "    print(\"El mayor es:\", num1)\n",
        "elif num2 > num1:\n",
        "    print(\"El mayor es:\", num2)\n",
        "else:\n",
        "    print(\"Ambos números son iguales\")"
      ],
      "metadata": {
        "colab": {
          "base_uri": "https://localhost:8080/"
        },
        "collapsed": true,
        "id": "nlEx1lbyqljw",
        "outputId": "dbc5832a-dad5-4214-ae41-17e34625a296"
      },
      "execution_count": 5,
      "outputs": [
        {
          "output_type": "stream",
          "name": "stdout",
          "text": [
            "Ingrese el primer número: 3\n",
            "Ingrese el segundo número: 5\n",
            "El mayor es: 5.0\n"
          ]
        }
      ]
    },
    {
      "cell_type": "markdown",
      "source": [
        "4\tEscribe un programa que reciba una calificación (0-100) e indique si es Aprobado (>=60) o Reprobado"
      ],
      "metadata": {
        "id": "Ly-nfqcCrmjN"
      }
    },
    {
      "cell_type": "code",
      "source": [
        "# Pedir la calificación\n",
        "calificacion = float(input(\"Ingrese la calificación (0-100): \"))\n",
        "\n",
        "# Verificar si es aprobado o reprobado\n",
        "if calificacion >= 60:\n",
        "    print(\"Aprobado :D \")\n",
        "else:\n",
        "    print(\"Reprobado :( )\")\n"
      ],
      "metadata": {
        "colab": {
          "base_uri": "https://localhost:8080/"
        },
        "collapsed": true,
        "id": "fMMgWcIPrm8N",
        "outputId": "98dd3913-f510-4fab-8442-8181b5c2b34a"
      },
      "execution_count": 7,
      "outputs": [
        {
          "output_type": "stream",
          "name": "stdout",
          "text": [
            "Ingrese la calificación (0-100): 60\n",
            "Aprobado :D \n"
          ]
        }
      ]
    },
    {
      "cell_type": "markdown",
      "source": [
        "5\tEscribe un programa que determine si un número es par o impar."
      ],
      "metadata": {
        "id": "JvGfqVnmrnL9"
      }
    },
    {
      "cell_type": "code",
      "source": [
        "# Pedir el número\n",
        "numero = int(input(\"Ingrese un número: \"))\n",
        "\n",
        "# Verificar si es par o impar\n",
        "if numero % 2 == 0:\n",
        "    print(\"El número es par\")\n",
        "else:\n",
        "    print(\"El número es impar\")\n"
      ],
      "metadata": {
        "colab": {
          "base_uri": "https://localhost:8080/"
        },
        "collapsed": true,
        "id": "G2H_-engrnr1",
        "outputId": "1ae3ebbf-0bd6-4a7c-b269-580144505f47"
      },
      "execution_count": 9,
      "outputs": [
        {
          "output_type": "stream",
          "name": "stdout",
          "text": [
            "Ingrese un número: 111\n",
            "El número es impar\n"
          ]
        }
      ]
    },
    {
      "cell_type": "markdown",
      "source": [
        "6\tEscribe un programa que reciba tres números e imprima el mayor de los tres."
      ],
      "metadata": {
        "id": "QbmnkiwJuLG0"
      }
    },
    {
      "cell_type": "code",
      "source": [
        "# Pedir los tres números\n",
        "num1 = float(input(\"Ingrese el primer número: \"))\n",
        "num2 = float(input(\"Ingrese el segundo número: \"))\n",
        "num3 = float(input(\"Ingrese el tercer número: \"))\n",
        "\n",
        "# Determinar el mayor\n",
        "if num1 >= num2 and num1 >= num3:\n",
        "    print(\"El mayor es:\", num1)\n",
        "elif num2 >= num1 and num2 >= num3:\n",
        "    print(\"El mayor es:\", num2)\n",
        "else:\n",
        "    print(\"El mayor es:\", num3)\n"
      ],
      "metadata": {
        "colab": {
          "base_uri": "https://localhost:8080/"
        },
        "id": "np_EPsU9uWA7",
        "outputId": "99ef7f88-3f30-4fbd-de26-0eb7ac854cf3"
      },
      "execution_count": 11,
      "outputs": [
        {
          "output_type": "stream",
          "name": "stdout",
          "text": [
            "Ingrese el primer número: 8\n",
            "Ingrese el segundo número: 4\n",
            "Ingrese el tercer número: 12345678\n",
            "El mayor es: 12345678.0\n"
          ]
        }
      ]
    },
    {
      "cell_type": "markdown",
      "source": [
        "7\tEscribe un programa que reciba un año e indique si es bisiesto."
      ],
      "metadata": {
        "id": "UPzVigCeukPT"
      }
    },
    {
      "cell_type": "code",
      "source": [
        "# Pedir el año\n",
        "anio = int(input(\"Ingrese un año: \"))\n",
        "\n",
        "# Verificar si es bisiesto\n",
        "if (anio % 4 == 0 and anio % 100 != 0) or (anio % 400 == 0):\n",
        "    print(\"El año es bisiesto\")\n",
        "else:\n",
        "    print(\"El año no es bisiesto\")"
      ],
      "metadata": {
        "colab": {
          "base_uri": "https://localhost:8080/"
        },
        "id": "UuXlPpbuun18",
        "outputId": "2bff52ec-0d1b-4c4c-eea1-5c5ad807b659"
      },
      "execution_count": 13,
      "outputs": [
        {
          "output_type": "stream",
          "name": "stdout",
          "text": [
            "Ingrese un año: 2012\n",
            "El año es bisiesto\n"
          ]
        }
      ]
    },
    {
      "cell_type": "markdown",
      "source": [
        "8\tEscribe un programa que reciba una contraseña e indique si cumple con las siguientes reglas: más de 8 caracteres, contiene al menos un número y una letra mayúscula."
      ],
      "metadata": {
        "id": "-1E0a2ztuydL"
      }
    },
    {
      "cell_type": "code",
      "source": [
        "# Pedir la contraseña\n",
        "contraseña = input(\"Ingrese la contraseña: \")\n",
        "\n",
        "# Verificar las condiciones\n",
        "tiene_mas_de_8 = len(contraseña) > 8\n",
        "tiene_numero = any(c.isdigit() for c in contraseña)\n",
        "tiene_mayuscula = any(c.isupper() for c in contraseña)\n",
        "\n",
        "# Lista para guardar las reglas incumplidas\n",
        "errores = []\n",
        "\n",
        "if not tiene_mas_de_8:\n",
        "    errores.append(\"Debe tener más de 8 caracteres\")\n",
        "if not tiene_numero:\n",
        "    errores.append(\"Debe contener al menos un número\")\n",
        "if not tiene_mayuscula:\n",
        "    errores.append(\"Debe contener al menos una letra mayúscula\")\n",
        "\n",
        "# Resultado\n",
        "if not errores:\n",
        "    print(\"La contraseña es válida\")\n",
        "else:\n",
        "    print(\"La contraseña NO es válida. Reglas incumplidas:\")\n",
        "    for regla in errores:\n",
        "        print(\"-\", regla)\n"
      ],
      "metadata": {
        "colab": {
          "base_uri": "https://localhost:8080/"
        },
        "collapsed": true,
        "id": "1l1hPt5Mu3Sd",
        "outputId": "b7cf8be8-e777-45da-bdc6-87f73d4e67fd"
      },
      "execution_count": 16,
      "outputs": [
        {
          "output_type": "stream",
          "name": "stdout",
          "text": [
            "Ingrese la contraseña: rururEu8\n",
            "La contraseña NO es válida. Reglas incumplidas:\n",
            "- Debe tener más de 8 caracteres\n"
          ]
        }
      ]
    },
    {
      "cell_type": "markdown",
      "source": [
        "9\tEscribe un programa que lea un número e imprima “Fizz” si es divisible por 3, “Buzz” si es divisible por 5 y “FizzBuzz” si es divisible por ambos"
      ],
      "metadata": {
        "id": "LLjDe8qwvR_0"
      }
    },
    {
      "cell_type": "code",
      "source": [
        "# Pedir el número\n",
        "numero = int(input(\"Ingrese un número: \"))\n",
        "\n",
        "# Verificar condiciones\n",
        "if numero % 3 == 0 and numero % 5 == 0:\n",
        "    print(\"FizzBuzz\")\n",
        "elif numero % 3 == 0:\n",
        "    print(\"Fizz\")\n",
        "elif numero % 5 == 0:\n",
        "    print(\"Buzz\")\n",
        "else:\n",
        "    print(10)\n"
      ],
      "metadata": {
        "colab": {
          "base_uri": "https://localhost:8080/"
        },
        "id": "NytMpVLNvTjL",
        "outputId": "beb3eb75-d9db-4572-86ca-76862306c69c"
      },
      "execution_count": 20,
      "outputs": [
        {
          "output_type": "stream",
          "name": "stdout",
          "text": [
            "Ingrese un número: 15\n",
            "FizzBuzz\n"
          ]
        }
      ]
    },
    {
      "cell_type": "markdown",
      "source": [
        "10\tEscribe un programa que simule un cajero automático: recibe el monto a retirar e imprime si la operación es posible en base al saldo disponible."
      ],
      "metadata": {
        "id": "cRoIuY5XvqSq"
      }
    },
    {
      "cell_type": "code",
      "source": [
        "# Saldo disponible en la cuenta\n",
        "saldo = 1000\n",
        "\n",
        "# Pedir el monto a retirar\n",
        "monto = float(input(\"Ingrese el monto a retirar: \"))\n",
        "\n",
        "# Verificar si es posible retirar\n",
        "if monto <= 0:\n",
        "    print(\"Monto inválido\")\n",
        "elif monto <= saldo:\n",
        "    print(\"Operación exitosa. Retire su dinero.\")\n",
        "else:\n",
        "    print(\"Fondos insuficientes\")\n"
      ],
      "metadata": {
        "colab": {
          "base_uri": "https://localhost:8080/"
        },
        "id": "gHn4LuiZvsvb",
        "outputId": "82310371-2142-4d71-e574-3145bccbc161"
      },
      "execution_count": 21,
      "outputs": [
        {
          "output_type": "stream",
          "name": "stdout",
          "text": [
            "Ingrese el monto a retirar: 100\n",
            "Operación exitosa. Retire su dinero.\n"
          ]
        }
      ]
    }
  ]
}