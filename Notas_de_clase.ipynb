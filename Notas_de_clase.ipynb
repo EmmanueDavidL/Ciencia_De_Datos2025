{
  "nbformat": 4,
  "nbformat_minor": 0,
  "metadata": {
    "colab": {
      "provenance": [],
      "authorship_tag": "ABX9TyNvOoCDEHsfIMzuDjLK9232",
      "include_colab_link": true
    },
    "kernelspec": {
      "name": "python3",
      "display_name": "Python 3"
    },
    "language_info": {
      "name": "python"
    }
  },
  "cells": [
    {
      "cell_type": "markdown",
      "metadata": {
        "id": "view-in-github",
        "colab_type": "text"
      },
      "source": [
        "<a href=\"https://colab.research.google.com/github/EmmanueDavidL/Ciencia_De_Datos2025/blob/main/Notas_de_clase.ipynb\" target=\"_parent\"><img src=\"https://colab.research.google.com/assets/colab-badge.svg\" alt=\"Open In Colab\"/></a>"
      ]
    },
    {
      "cell_type": "code",
      "execution_count": null,
      "metadata": {
        "id": "Cig_t0C238Oe"
      },
      "outputs": [],
      "source": [
        "#funciones en phyton\n",
        "funciones de metodo\n",
        "funciones anonimas"
      ]
    },
    {
      "cell_type": "markdown",
      "source": [
        "#Funciones en Python\n",
        "1. Funciones de metodo\n",
        "2. Funciones anonimas\n",
        "\n",
        "¿que son las funciones?\n",
        "\n",
        "def(palabra clave) + (nombre de la funcion)+ (parametros de la funcion)\n",
        "\n",
        "#4 Tipos de funciones\n",
        "\n",
        "1. sin parametro y sin retorno\n",
        "2. sin parametro y con retorno\n",
        "3. con parametro y sin retorno\n",
        "4. con parametro y con retorno\n",
        "\n",
        "#1 Sin Parametro y sin retorno\n",
        "\n",
        "se emplea cuando no se requiere un almacenamiento en una variable local y cuando no se requieren parametros para su uso\n"
      ],
      "metadata": {
        "id": "W4YgQ4dd4CqX"
      }
    },
    {
      "cell_type": "code",
      "source": [
        "def saludo():\n",
        "  print (\"hola mundo\")\n",
        "\n",
        "saludo()\n"
      ],
      "metadata": {
        "colab": {
          "base_uri": "https://localhost:8080/"
        },
        "id": "b0ICeOuX5Rg_",
        "outputId": "958bd562-9878-431b-e4d2-4dc1a33c8f50"
      },
      "execution_count": 35,
      "outputs": [
        {
          "output_type": "stream",
          "name": "stdout",
          "text": [
            "hola mundo\n"
          ]
        }
      ]
    },
    {
      "cell_type": "markdown",
      "source": [
        "### #2 sin parametro y con retorno\n",
        "\n",
        "se usa cuando necesito realizar una operacion y para cuando se necesita una variable local en global"
      ],
      "metadata": {
        "id": "6g5O8uGY5som"
      }
    },
    {
      "cell_type": "code",
      "source": [
        "def numero():\n",
        "  return 4+5\n",
        "\n",
        "  c=numero()\n",
        "  c"
      ],
      "metadata": {
        "id": "u0sPDHFA58c2"
      },
      "execution_count": 37,
      "outputs": []
    },
    {
      "cell_type": "code",
      "source": [
        "def numero():\n",
        "  d= 4+5\n",
        "  print(d)"
      ],
      "metadata": {
        "id": "_8Xn2OYZ6P9G"
      },
      "execution_count": 27,
      "outputs": []
    },
    {
      "cell_type": "markdown",
      "source": [
        "# #3 Con Parametro Sin retorno"
      ],
      "metadata": {
        "id": "VD1lChSL7GM9"
      }
    },
    {
      "cell_type": "code",
      "source": [
        "def cuadrado(a): print(a**2)\n",
        "cuadrado(5)"
      ],
      "metadata": {
        "colab": {
          "base_uri": "https://localhost:8080/"
        },
        "id": "wnV2KFak7LkV",
        "outputId": "3472c5db-151c-4934-f455-f96fb695ae09"
      },
      "execution_count": 26,
      "outputs": [
        {
          "output_type": "stream",
          "name": "stdout",
          "text": [
            "25\n"
          ]
        }
      ]
    },
    {
      "cell_type": "markdown",
      "source": [
        "#4 Con Parametro con *retorno*"
      ],
      "metadata": {
        "id": "kjahnqlm7dqc"
      }
    },
    {
      "cell_type": "code",
      "source": [
        "def cubo(b): return(b**3)\n",
        "a=cubo(6)\n",
        "a"
      ],
      "metadata": {
        "colab": {
          "base_uri": "https://localhost:8080/"
        },
        "id": "VIYxk6rJ7fD8",
        "outputId": "fc086da1-693f-425e-b40d-c60daaf49c88"
      },
      "execution_count": 28,
      "outputs": [
        {
          "output_type": "execute_result",
          "data": {
            "text/plain": [
              "216"
            ]
          },
          "metadata": {},
          "execution_count": 28
        }
      ]
    },
    {
      "cell_type": "code",
      "source": [
        "def comparar(a,b):\n",
        "  return f\"{a} es mayor que {b}\" if a>b else f\"{a} es mayor que {b}\""
      ],
      "metadata": {
        "id": "DDcYPsI9762D"
      },
      "execution_count": null,
      "outputs": []
    },
    {
      "cell_type": "code",
      "source": [],
      "metadata": {
        "id": "VSdraTkE76jk"
      },
      "execution_count": null,
      "outputs": []
    }
  ]
}